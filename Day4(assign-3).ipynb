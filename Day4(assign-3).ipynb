{
  "nbformat": 4,
  "nbformat_minor": 0,
  "metadata": {
    "colab": {
      "name": "Untitled2.ipynb",
      "provenance": []
    },
    "kernelspec": {
      "name": "python3",
      "display_name": "Python 3"
    }
  },
  "cells": [
    {
      "cell_type": "code",
      "metadata": {
        "colab": {
          "base_uri": "https://localhost:8080/"
        },
        "id": "w2GlS076TXJO",
        "outputId": "b7781c9d-569e-46e8-ea18-193968041cb8"
      },
      "source": [
        "num1=input(\"Enter number\")\r\n",
        "num2=input(\"Enter number\")\r\n",
        "num3=input(\"Enter number\")\r\n",
        "if num1>num2 and num1>num3:\r\n",
        "    print(\"num1 is max of given three numbers\")\r\n",
        "elif num3>num1 and num3>num2:\r\n",
        "  print(\"num3 is max of given three numbers\")\r\n",
        "elif num2>num1 and num2>num3:\r\n",
        "  print(\"num2 is max of given three numbers\")"
      ],
      "execution_count": 6,
      "outputs": [
        {
          "output_type": "stream",
          "text": [
            "Enter number5\n",
            "Enter number6\n",
            "Enter number4\n",
            "num2 is max of given three numbers\n"
          ],
          "name": "stdout"
        }
      ]
    },
    {
      "cell_type": "code",
      "metadata": {
        "colab": {
          "base_uri": "https://localhost:8080/"
        },
        "id": "wGheZommXhwF",
        "outputId": "d9057917-d9ed-43e4-bc18-859acb6721cf"
      },
      "source": [
        "value=input(\"enter a string:\")\r\n",
        "if value==value[::-1]:\r\n",
        "  print(\"given string is palindrome\")\r\n",
        "else:\r\n",
        "  print(\"given string is not a palindrome\")"
      ],
      "execution_count": 20,
      "outputs": [
        {
          "output_type": "stream",
          "text": [
            "enter a stringihij\n",
            "given string is not a palindrome\n"
          ],
          "name": "stdout"
        }
      ]
    },
    {
      "cell_type": "code",
      "metadata": {
        "colab": {
          "base_uri": "https://localhost:8080/"
        },
        "id": "pMB2ROS5a-Tm",
        "outputId": "933721bc-0187-4a10-8aba-4da40c2eb69f"
      },
      "source": [
        "string=input(\"Enter a string\")\r\n",
        "total_upper=0\r\n",
        "total_lower=0\r\n",
        "for i in string:\r\n",
        "  if ord(i)<90:\r\n",
        "    total_upper+=1\r\n",
        "  else:\r\n",
        "    total_lower+=1\r\n",
        "print(\"No. of capital letters:\",total_upper)\r\n",
        "print(\"No. of small letters:\",total_lower)"
      ],
      "execution_count": 30,
      "outputs": [
        {
          "output_type": "stream",
          "text": [
            "Enter a stringGAHA\n",
            "No. of capital letters: 4\n",
            "No. of small letters: 0\n"
          ],
          "name": "stdout"
        }
      ]
    },
    {
      "cell_type": "code",
      "metadata": {
        "colab": {
          "base_uri": "https://localhost:8080/"
        },
        "id": "jE2QxBacfaY9",
        "outputId": "3f453e1f-fe7a-4695-90f7-849081956c1c"
      },
      "source": [
        "len=int(input(\"enter length of list\"))\r\n",
        "lst=[]\r\n",
        "total=0\r\n",
        "for i in range(0,len):\r\n",
        "  n=int(input(\"enter list elements\"))\r\n",
        "  lst.append(n)\r\n",
        "for i in range(0,len):\r\n",
        "  total+=lst[i]\r\n",
        "print(total)\r\n",
        "  \r\n"
      ],
      "execution_count": 49,
      "outputs": [
        {
          "output_type": "stream",
          "text": [
            "enter length of list3\n",
            "enter list elements1\n",
            "enter list elements2\n",
            "enter list elements3\n",
            "6\n"
          ],
          "name": "stdout"
        }
      ]
    },
    {
      "cell_type": "code",
      "metadata": {
        "colab": {
          "base_uri": "https://localhost:8080/"
        },
        "id": "JvU5qWS8lX1y",
        "outputId": "9f9648c8-5188-4407-d7c6-d90b739a9329"
      },
      "source": [
        "len=int(input(\"enter length of list\"))\r\n",
        "lst=[]\r\n",
        "mul=1\r\n",
        "for i in range(0,len):\r\n",
        "  n=int(input(\"enter list elements\"))\r\n",
        "  lst.append(n)\r\n",
        "for i in range(0,len):\r\n",
        "  mul*=lst[i]\r\n",
        "print(mul)"
      ],
      "execution_count": 51,
      "outputs": [
        {
          "output_type": "stream",
          "text": [
            "enter length of list3\n",
            "enter list elements5\n",
            "enter list elements4\n",
            "enter list elements2\n",
            "40\n"
          ],
          "name": "stdout"
        }
      ]
    },
    {
      "cell_type": "code",
      "metadata": {
        "colab": {
          "base_uri": "https://localhost:8080/"
        },
        "id": "F3bPvVXDlwFl",
        "outputId": "158b98af-e416-434e-bdac-ea5c79d9a070"
      },
      "source": [
        "len=int(input(\"enter length of list\"))\r\n",
        "lst1=[]\r\n",
        "lst2=[]\r\n",
        "for i in range(0,len):\r\n",
        "  n=int(input(\"enter list elements\"))\r\n",
        "  lst1.append(n)\r\n",
        "for x in lst1:\r\n",
        "  if x not in lst2:\r\n",
        "    lst2.append(x)\r\n",
        "print(lst2)\r\n",
        "\r\n"
      ],
      "execution_count": 56,
      "outputs": [
        {
          "output_type": "stream",
          "text": [
            "enter length of list5\n",
            "enter list elements1\n",
            "enter list elements1\n",
            "enter list elements2\n",
            "enter list elements2\n",
            "enter list elements3\n",
            "[1, 2, 3]\n"
          ],
          "name": "stdout"
        }
      ]
    }
  ]
}